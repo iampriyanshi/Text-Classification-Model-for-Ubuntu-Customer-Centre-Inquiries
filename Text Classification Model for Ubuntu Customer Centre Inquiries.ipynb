{
 "cells": [
  {
   "cell_type": "markdown",
   "id": "659b14de",
   "metadata": {},
   "source": [
    "## Installations"
   ]
  },
  {
   "cell_type": "code",
   "execution_count": null,
   "id": "c36037a7",
   "metadata": {
    "execution": {
     "iopub.execute_input": "2024-06-23T20:28:53.359910Z",
     "iopub.status.busy": "2024-06-23T20:28:53.359284Z",
     "iopub.status.idle": "2024-06-23T20:29:04.198903Z",
     "shell.execute_reply": "2024-06-23T20:29:04.197425Z",
     "shell.execute_reply.started": "2024-06-23T20:28:53.359872Z"
    }
   },
   "outputs": [],
   "source": [
    "# !pip uninstall nltk -y\n",
    "# !pip install -U nltk"
   ]
  },
  {
   "cell_type": "code",
   "execution_count": null,
   "id": "ace0a859",
   "metadata": {
    "collapsed": true,
    "execution": {
     "iopub.execute_input": "2024-06-23T20:29:04.201161Z",
     "iopub.status.busy": "2024-06-23T20:29:04.200735Z",
     "iopub.status.idle": "2024-06-23T20:29:52.236124Z",
     "shell.execute_reply": "2024-06-23T20:29:52.227624Z",
     "shell.execute_reply.started": "2024-06-23T20:29:04.201126Z"
    },
    "jupyter": {
     "outputs_hidden": true
    },
    "papermill": {
     "duration": 28.790668,
     "end_time": "2024-06-23T02:53:13.088633",
     "exception": false,
     "start_time": "2024-06-23T02:52:44.297965",
     "status": "completed"
    },
    "tags": []
   },
   "outputs": [],
   "source": [
    "# !unzip /usr/share/nltk_data/corpora/wordnet.zip -d /usr/share/nltk_data/corpora/\n",
    "# !pip install deep_translator\n",
    "# !pip install langdetect \n",
    "# !pip install textblob\n",
    "# !pip install wordcloud\n",
    "\n",
    "# import nltk\n",
    "# nltk.download('wordnet')\n",
    "# nltk.download('stopwords')\n"
   ]
  },
  {
   "cell_type": "markdown",
   "id": "898cbcfe",
   "metadata": {},
   "source": [
    "## Imports"
   ]
  },
  {
   "cell_type": "code",
   "execution_count": 166,
   "id": "be702059",
   "metadata": {
    "execution": {
     "iopub.status.busy": "2024-06-23T20:29:52.237404Z",
     "iopub.status.idle": "2024-06-23T20:29:52.237893Z",
     "shell.execute_reply": "2024-06-23T20:29:52.237716Z",
     "shell.execute_reply.started": "2024-06-23T20:29:52.237695Z"
    }
   },
   "outputs": [],
   "source": [
    "import numpy as np\n",
    "import pandas as pd"
   ]
  },
  {
   "cell_type": "markdown",
   "id": "08d1d34b",
   "metadata": {},
   "source": [
    "### Read File"
   ]
  },
  {
   "cell_type": "code",
   "execution_count": 168,
   "id": "dfa6664c",
   "metadata": {
    "execution": {
     "iopub.status.busy": "2024-06-23T20:29:52.239855Z",
     "iopub.status.idle": "2024-06-23T20:29:52.240235Z",
     "shell.execute_reply": "2024-06-23T20:29:52.240073Z",
     "shell.execute_reply.started": "2024-06-23T20:29:52.240057Z"
    },
    "papermill": {
     "duration": 0.735687,
     "end_time": "2024-06-23T02:53:13.838745",
     "exception": false,
     "start_time": "2024-06-23T02:53:13.103058",
     "status": "completed"
    },
    "tags": []
   },
   "outputs": [],
   "source": [
    "df = pd.read_csv('ubuntu_customer_msg_small.csv')\n",
    "df.drop(df.columns[df.columns.str.contains('unnamed',case = False)], axis = 1, inplace = True)\n",
    "pd.set_option('display.max_colwidth', None)"
   ]
  },
  {
   "cell_type": "code",
   "execution_count": 169,
   "id": "e76622cd",
   "metadata": {
    "execution": {
     "iopub.status.busy": "2024-06-23T20:29:52.264972Z",
     "iopub.status.idle": "2024-06-23T20:29:52.265369Z",
     "shell.execute_reply": "2024-06-23T20:29:52.265208Z",
     "shell.execute_reply.started": "2024-06-23T20:29:52.265192Z"
    },
    "papermill": {
     "duration": 0.031711,
     "end_time": "2024-06-23T02:53:13.884081",
     "exception": false,
     "start_time": "2024-06-23T02:53:13.852370",
     "status": "completed"
    },
    "tags": []
   },
   "outputs": [],
   "source": [
    "df_sample = df.sample(n=30000, random_state=1)"
   ]
  },
  {
   "cell_type": "code",
   "execution_count": 170,
   "id": "b15e7396",
   "metadata": {
    "execution": {
     "iopub.status.busy": "2024-06-23T20:29:52.269877Z",
     "iopub.status.idle": "2024-06-23T20:29:52.270209Z",
     "shell.execute_reply": "2024-06-23T20:29:52.270062Z",
     "shell.execute_reply.started": "2024-06-23T20:29:52.270048Z"
    },
    "papermill": {
     "duration": 0.030579,
     "end_time": "2024-06-23T02:53:13.928749",
     "exception": false,
     "start_time": "2024-06-23T02:53:13.898170",
     "status": "completed"
    },
    "tags": []
   },
   "outputs": [
    {
     "data": {
      "text/html": [
       "<div>\n",
       "<style scoped>\n",
       "    .dataframe tbody tr th:only-of-type {\n",
       "        vertical-align: middle;\n",
       "    }\n",
       "\n",
       "    .dataframe tbody tr th {\n",
       "        vertical-align: top;\n",
       "    }\n",
       "\n",
       "    .dataframe thead th {\n",
       "        text-align: right;\n",
       "    }\n",
       "</style>\n",
       "<table border=\"1\" class=\"dataframe\">\n",
       "  <thead>\n",
       "    <tr style=\"text-align: right;\">\n",
       "      <th></th>\n",
       "      <th>raw_text</th>\n",
       "    </tr>\n",
       "  </thead>\n",
       "  <tbody>\n",
       "    <tr>\n",
       "      <th>181970</th>\n",
       "      <td>Is there a command that I can use to reload the xserver without restarting the system?</td>\n",
       "    </tr>\n",
       "    <tr>\n",
       "      <th>170</th>\n",
       "      <td>can someone tell me what I do with a .tar.gz.part file?</td>\n",
       "    </tr>\n",
       "    <tr>\n",
       "      <th>147729</th>\n",
       "      <td>so does anyone know if its possible to have both Ubuntu and Windows on the same comp, like Mac and Windows on MacBooks?</td>\n",
       "    </tr>\n",
       "    <tr>\n",
       "      <th>153112</th>\n",
       "      <td>Ubuntu version 10.04.1 is the LTS one that is supported to April 2013, right?</td>\n",
       "    </tr>\n",
       "    <tr>\n",
       "      <th>40659</th>\n",
       "      <td>how do i know which driver my wirelesscard is currently using?</td>\n",
       "    </tr>\n",
       "  </tbody>\n",
       "</table>\n",
       "</div>"
      ],
      "text/plain": [
       "                                                                                                                       raw_text\n",
       "181970                                   Is there a command that I can use to reload the xserver without restarting the system?\n",
       "170                                                                     can someone tell me what I do with a .tar.gz.part file?\n",
       "147729  so does anyone know if its possible to have both Ubuntu and Windows on the same comp, like Mac and Windows on MacBooks?\n",
       "153112                                            Ubuntu version 10.04.1 is the LTS one that is supported to April 2013, right?\n",
       "40659                                                            how do i know which driver my wirelesscard is currently using?"
      ]
     },
     "execution_count": 170,
     "metadata": {},
     "output_type": "execute_result"
    }
   ],
   "source": [
    "df_sample.head()"
   ]
  },
  {
   "cell_type": "code",
   "execution_count": 171,
   "id": "871d946d",
   "metadata": {
    "execution": {
     "iopub.status.busy": "2024-06-23T20:29:52.271485Z",
     "iopub.status.idle": "2024-06-23T20:29:52.271877Z",
     "shell.execute_reply": "2024-06-23T20:29:52.271722Z",
     "shell.execute_reply.started": "2024-06-23T20:29:52.271706Z"
    },
    "papermill": {
     "duration": 0.023284,
     "end_time": "2024-06-23T02:53:14.018135",
     "exception": false,
     "start_time": "2024-06-23T02:53:13.994851",
     "status": "completed"
    },
    "tags": []
   },
   "outputs": [
    {
     "data": {
      "text/plain": [
       "(30000, 1)"
      ]
     },
     "execution_count": 171,
     "metadata": {},
     "output_type": "execute_result"
    }
   ],
   "source": [
    "df_sample.shape"
   ]
  },
  {
   "cell_type": "code",
   "execution_count": 172,
   "id": "7bcca827",
   "metadata": {
    "execution": {
     "iopub.status.busy": "2024-06-23T20:29:52.272877Z",
     "iopub.status.idle": "2024-06-23T20:29:52.273200Z",
     "shell.execute_reply": "2024-06-23T20:29:52.273054Z",
     "shell.execute_reply.started": "2024-06-23T20:29:52.273040Z"
    },
    "papermill": {
     "duration": 0.038877,
     "end_time": "2024-06-23T02:53:13.981506",
     "exception": false,
     "start_time": "2024-06-23T02:53:13.942629",
     "status": "completed"
    },
    "tags": []
   },
   "outputs": [
    {
     "name": "stdout",
     "output_type": "stream",
     "text": [
      "<class 'pandas.core.frame.DataFrame'>\n",
      "Int64Index: 30000 entries, 181970 to 143787\n",
      "Data columns (total 1 columns):\n",
      " #   Column    Non-Null Count  Dtype \n",
      "---  ------    --------------  ----- \n",
      " 0   raw_text  30000 non-null  object\n",
      "dtypes: object(1)\n",
      "memory usage: 468.8+ KB\n"
     ]
    }
   ],
   "source": [
    "df_sample.info()"
   ]
  },
  {
   "cell_type": "markdown",
   "id": "5ebc1015",
   "metadata": {},
   "source": [
    "**Observation**: No null data found"
   ]
  },
  {
   "cell_type": "markdown",
   "id": "e8ec45c0",
   "metadata": {
    "papermill": {
     "duration": 0.013038,
     "end_time": "2024-06-23T02:53:14.044854",
     "exception": false,
     "start_time": "2024-06-23T02:53:14.031816",
     "status": "completed"
    },
    "tags": []
   },
   "source": [
    "## Data cleaning: Prepare the text for topic modeling\n",
    "\n",
    "We need to:\n",
    "\n",
    "* Make the text lowercase\n",
    "* Remove punctuation\n",
    "* Remove words containing numbers\n",
    "\n",
    "\n",
    "Once we have done these cleaning operations you need to perform the following:\n",
    "* Lemmatize the texts\n",
    "* Use POS tags to get relevant words from the texts.\n"
   ]
  },
  {
   "cell_type": "code",
   "execution_count": 173,
   "id": "66054bb9",
   "metadata": {
    "execution": {
     "iopub.status.busy": "2024-06-23T20:29:52.274578Z",
     "iopub.status.idle": "2024-06-23T20:29:52.274930Z",
     "shell.execute_reply": "2024-06-23T20:29:52.274776Z",
     "shell.execute_reply.started": "2024-06-23T20:29:52.274760Z"
    }
   },
   "outputs": [],
   "source": [
    "import nltk\n",
    "from nltk.stem import WordNetLemmatizer\n",
    "from nltk.corpus import wordnet, stopwords\n",
    "from nltk.corpus import stopwords\n",
    "from deep_translator import GoogleTranslator\n",
    "from tqdm import tqdm\n",
    "from textblob import TextBlob\n",
    "from langdetect import detect\n",
    "import re"
   ]
  },
  {
   "cell_type": "code",
   "execution_count": 174,
   "id": "425d2622",
   "metadata": {
    "execution": {
     "iopub.status.busy": "2024-06-23T20:29:52.275915Z",
     "iopub.status.idle": "2024-06-23T20:29:52.276234Z",
     "shell.execute_reply": "2024-06-23T20:29:52.276089Z",
     "shell.execute_reply.started": "2024-06-23T20:29:52.276075Z"
    }
   },
   "outputs": [],
   "source": [
    "from langdetect import detect"
   ]
  },
  {
   "cell_type": "code",
   "execution_count": 175,
   "id": "9cafadaa",
   "metadata": {
    "execution": {
     "iopub.status.busy": "2024-06-23T20:29:52.277397Z",
     "iopub.status.idle": "2024-06-23T20:29:52.277765Z",
     "shell.execute_reply": "2024-06-23T20:29:52.277606Z",
     "shell.execute_reply.started": "2024-06-23T20:29:52.277590Z"
    },
    "papermill": {
     "duration": 0.022696,
     "end_time": "2024-06-23T02:53:16.091300",
     "exception": false,
     "start_time": "2024-06-23T02:53:16.068604",
     "status": "completed"
    },
    "tags": []
   },
   "outputs": [],
   "source": [
    "def translate_to_english(to_translate):\n",
    "    try:\n",
    "        if detect(to_translate) != 'en':\n",
    "            translated = GoogleTranslator(source='auto', target='english').translate(to_translate)\n",
    "            return translated\n",
    "        return to_translate\n",
    "    except:\n",
    "        return to_translate"
   ]
  },
  {
   "cell_type": "code",
   "execution_count": 176,
   "id": "36fa7261",
   "metadata": {
    "execution": {
     "iopub.status.busy": "2024-06-23T20:29:52.279633Z",
     "iopub.status.idle": "2024-06-23T20:29:52.279969Z",
     "shell.execute_reply": "2024-06-23T20:29:52.279820Z",
     "shell.execute_reply.started": "2024-06-23T20:29:52.279806Z"
    },
    "papermill": {
     "duration": 0.03147,
     "end_time": "2024-06-23T02:53:16.141708",
     "exception": false,
     "start_time": "2024-06-23T02:53:16.110238",
     "status": "completed"
    },
    "tags": []
   },
   "outputs": [],
   "source": [
    "greetings = ['hi', 'hello', 'hey', 'greetings', 'howdy', 'folks', 'folk']\n",
    "greetings_pattern = r'\\b(' + '|'.join(greetings) + r')\\b'\n",
    "\n",
    "# Method to clean the text and remove all the unnecessary elements.\n",
    "def cleaned_text(sentence):\n",
    "    sentence = translate_to_english(sentence)\n",
    "    sentence = sentence.lower()\n",
    "    sentence = re.sub(\"[\\[].*?[\\]]\", \"\", sentence)\n",
    "    sentence = re.sub(greetings_pattern, \"\", sentence)    \n",
    "    sentence = re.sub(r'[^\\w\\s]','', sentence) \n",
    "    sentence = re.sub(r'[0-9]', '', sentence, re.I|re.A)\n",
    "    return sentence"
   ]
  },
  {
   "cell_type": "code",
   "execution_count": 177,
   "id": "527a8d61",
   "metadata": {
    "execution": {
     "iopub.status.busy": "2024-06-23T20:29:52.281452Z",
     "iopub.status.idle": "2024-06-23T20:29:52.281993Z",
     "shell.execute_reply": "2024-06-23T20:29:52.281765Z",
     "shell.execute_reply.started": "2024-06-23T20:29:52.281743Z"
    },
    "papermill": {
     "duration": 0.035851,
     "end_time": "2024-06-23T02:53:16.196128",
     "exception": false,
     "start_time": "2024-06-23T02:53:16.160277",
     "status": "completed"
    },
    "tags": []
   },
   "outputs": [],
   "source": [
    "stop = set(stopwords.words('english'))\n",
    "lemmatizer = WordNetLemmatizer()\n",
    "\n",
    "# function to convert nltk tag to wordnet tag\n",
    "def nltk_tag_to_wordnet_tag(nltk_tag):\n",
    "    if nltk_tag.startswith('J'):\n",
    "        return wordnet.ADJ\n",
    "    elif nltk_tag.startswith('V'):\n",
    "        return wordnet.VERB\n",
    "    elif nltk_tag.startswith('N'):\n",
    "        return wordnet.NOUN\n",
    "    elif nltk_tag.startswith('R'):\n",
    "        return wordnet.ADV\n",
    "    else:          \n",
    "        return None\n",
    "\n",
    "def lemmatized_text(sentence):\n",
    "    # tokenize into words\n",
    "    words = nltk.word_tokenize(sentence)\n",
    "    \n",
    "    # remove stop words\n",
    "    words = [word for word in words if word not in stopwords.words(\"english\")]\n",
    "\n",
    "    # tokenize the sentence and find the Part Of Speech(POS) tag for each token\n",
    "    nltk_tagged = nltk.pos_tag(words)\n",
    "    \n",
    "    # tuple of (token, wordnet_tag)\n",
    "    wordnet_tagged = map(lambda x: (x[0], nltk_tag_to_wordnet_tag(x[1])), nltk_tagged)\n",
    "    \n",
    "    lemmatized_sentence = []\n",
    "    # use tag to lemmatize the token\n",
    "    for word, tag in wordnet_tagged:\n",
    "        if tag is None:\n",
    "            lemmatized_sentence.append(word)\n",
    "        else:\n",
    "            lemmatized_sentence.append(lemmatizer.lemmatize(word, tag))\n",
    "    return \" \".join(lemmatized_sentence)"
   ]
  },
  {
   "cell_type": "code",
   "execution_count": 178,
   "id": "dec93bed",
   "metadata": {
    "execution": {
     "iopub.status.busy": "2024-06-23T20:29:52.283024Z",
     "iopub.status.idle": "2024-06-23T20:29:52.283565Z",
     "shell.execute_reply": "2024-06-23T20:29:52.283274Z",
     "shell.execute_reply.started": "2024-06-23T20:29:52.283253Z"
    },
    "papermill": {
     "duration": 0.022509,
     "end_time": "2024-06-23T02:53:16.231834",
     "exception": false,
     "start_time": "2024-06-23T02:53:16.209325",
     "status": "completed"
    },
    "tags": []
   },
   "outputs": [
    {
     "data": {
      "text/plain": [
       "30000"
      ]
     },
     "execution_count": 178,
     "metadata": {},
     "output_type": "execute_result"
    }
   ],
   "source": [
    "len(df_sample)"
   ]
  },
  {
   "cell_type": "code",
   "execution_count": 179,
   "id": "b90c9d6d",
   "metadata": {
    "execution": {
     "iopub.status.busy": "2024-06-23T20:29:52.284531Z",
     "iopub.status.idle": "2024-06-23T20:29:52.284897Z",
     "shell.execute_reply": "2024-06-23T20:29:52.284748Z",
     "shell.execute_reply.started": "2024-06-23T20:29:52.284733Z"
    },
    "papermill": {
     "duration": 118.374142,
     "end_time": "2024-06-23T02:55:14.619296",
     "exception": false,
     "start_time": "2024-06-23T02:53:16.245154",
     "status": "completed"
    },
    "tags": []
   },
   "outputs": [],
   "source": [
    "# Add a new column lemmatized_raw_text\n",
    "df_sample['lemmatized_raw_text'] = df_sample['raw_text'].apply(lambda x: lemmatized_text(cleaned_text(x)))"
   ]
  },
  {
   "cell_type": "code",
   "execution_count": 180,
   "id": "dfef38d1",
   "metadata": {
    "execution": {
     "iopub.status.busy": "2024-06-23T20:29:52.286370Z",
     "iopub.status.idle": "2024-06-23T20:29:52.286881Z",
     "shell.execute_reply": "2024-06-23T20:29:52.286649Z",
     "shell.execute_reply.started": "2024-06-23T20:29:52.286628Z"
    },
    "papermill": {
     "duration": 0.028227,
     "end_time": "2024-06-23T02:55:14.718510",
     "exception": false,
     "start_time": "2024-06-23T02:55:14.690283",
     "status": "completed"
    },
    "tags": []
   },
   "outputs": [
    {
     "data": {
      "text/html": [
       "<div>\n",
       "<style scoped>\n",
       "    .dataframe tbody tr th:only-of-type {\n",
       "        vertical-align: middle;\n",
       "    }\n",
       "\n",
       "    .dataframe tbody tr th {\n",
       "        vertical-align: top;\n",
       "    }\n",
       "\n",
       "    .dataframe thead th {\n",
       "        text-align: right;\n",
       "    }\n",
       "</style>\n",
       "<table border=\"1\" class=\"dataframe\">\n",
       "  <thead>\n",
       "    <tr style=\"text-align: right;\">\n",
       "      <th></th>\n",
       "      <th>raw_text</th>\n",
       "      <th>lemmatized_raw_text</th>\n",
       "    </tr>\n",
       "  </thead>\n",
       "  <tbody>\n",
       "    <tr>\n",
       "      <th>181970</th>\n",
       "      <td>Is there a command that I can use to reload the xserver without restarting the system?</td>\n",
       "      <td>command use reload xserver without restart system</td>\n",
       "    </tr>\n",
       "    <tr>\n",
       "      <th>170</th>\n",
       "      <td>can someone tell me what I do with a .tar.gz.part file?</td>\n",
       "      <td>someone tell targzpart file</td>\n",
       "    </tr>\n",
       "    <tr>\n",
       "      <th>147729</th>\n",
       "      <td>so does anyone know if its possible to have both Ubuntu and Windows on the same comp, like Mac and Windows on MacBooks?</td>\n",
       "      <td>anyone know possible ubuntu window comp like mac window macbooks</td>\n",
       "    </tr>\n",
       "    <tr>\n",
       "      <th>153112</th>\n",
       "      <td>Ubuntu version 10.04.1 is the LTS one that is supported to April 2013, right?</td>\n",
       "      <td>ubuntu version lts one support april right</td>\n",
       "    </tr>\n",
       "    <tr>\n",
       "      <th>40659</th>\n",
       "      <td>how do i know which driver my wirelesscard is currently using?</td>\n",
       "      <td>know driver wirelesscard currently use</td>\n",
       "    </tr>\n",
       "  </tbody>\n",
       "</table>\n",
       "</div>"
      ],
      "text/plain": [
       "                                                                                                                       raw_text  \\\n",
       "181970                                   Is there a command that I can use to reload the xserver without restarting the system?   \n",
       "170                                                                     can someone tell me what I do with a .tar.gz.part file?   \n",
       "147729  so does anyone know if its possible to have both Ubuntu and Windows on the same comp, like Mac and Windows on MacBooks?   \n",
       "153112                                            Ubuntu version 10.04.1 is the LTS one that is supported to April 2013, right?   \n",
       "40659                                                            how do i know which driver my wirelesscard is currently using?   \n",
       "\n",
       "                                                     lemmatized_raw_text  \n",
       "181970                 command use reload xserver without restart system  \n",
       "170                                          someone tell targzpart file  \n",
       "147729  anyone know possible ubuntu window comp like mac window macbooks  \n",
       "153112                        ubuntu version lts one support april right  \n",
       "40659                             know driver wirelesscard currently use  "
      ]
     },
     "execution_count": 180,
     "metadata": {},
     "output_type": "execute_result"
    }
   ],
   "source": [
    "df_sample.head()"
   ]
  },
  {
   "cell_type": "code",
   "execution_count": 181,
   "id": "e4c994fb",
   "metadata": {
    "execution": {
     "iopub.status.busy": "2024-06-23T20:29:52.288095Z",
     "iopub.status.idle": "2024-06-23T20:29:52.288610Z",
     "shell.execute_reply": "2024-06-23T20:29:52.288348Z",
     "shell.execute_reply.started": "2024-06-23T20:29:52.288328Z"
    },
    "papermill": {
     "duration": 13.869681,
     "end_time": "2024-06-23T02:55:28.601746",
     "exception": false,
     "start_time": "2024-06-23T02:55:14.732065",
     "status": "completed"
    },
    "tags": []
   },
   "outputs": [
    {
     "name": "stderr",
     "output_type": "stream",
     "text": [
      "100%|███████████████████████████████████| 30000/30000 [00:14<00:00, 2049.38it/s]\n",
      "100%|█████████████████████████████████| 30000/30000 [00:00<00:00, 206845.22it/s]\n"
     ]
    }
   ],
   "source": [
    "tqdm.pandas()\n",
    "\n",
    "# function to extract the POS tags \n",
    "def extract_pos_tag(sentence):\n",
    "    # Create a textblob object\n",
    "    blob = TextBlob(sentence)\n",
    "\n",
    "    # extract words with tags 'NN'(all nouns), join them and return\n",
    "    return ' '.join([ word for (word,tag) in blob.tags if tag == \"NN\"])\n",
    "    \n",
    "df_sample[\"raw_text_POS_removed\"] = df_sample.progress_apply(lambda x: extract_pos_tag(x.lemmatized_raw_text), axis=1)\n",
    "df_sample[\"length\"] = df_sample.progress_apply(lambda x: len(x.raw_text_POS_removed), axis=1)"
   ]
  },
  {
   "cell_type": "code",
   "execution_count": 182,
   "id": "1c4f3f2f",
   "metadata": {
    "execution": {
     "iopub.status.busy": "2024-06-23T20:29:52.290703Z",
     "iopub.status.idle": "2024-06-23T20:29:52.291078Z",
     "shell.execute_reply": "2024-06-23T20:29:52.290919Z",
     "shell.execute_reply.started": "2024-06-23T20:29:52.290903Z"
    },
    "papermill": {
     "duration": 0.037823,
     "end_time": "2024-06-23T02:55:28.663429",
     "exception": false,
     "start_time": "2024-06-23T02:55:28.625606",
     "status": "completed"
    },
    "tags": []
   },
   "outputs": [
    {
     "data": {
      "text/html": [
       "<div>\n",
       "<style scoped>\n",
       "    .dataframe tbody tr th:only-of-type {\n",
       "        vertical-align: middle;\n",
       "    }\n",
       "\n",
       "    .dataframe tbody tr th {\n",
       "        vertical-align: top;\n",
       "    }\n",
       "\n",
       "    .dataframe thead th {\n",
       "        text-align: right;\n",
       "    }\n",
       "</style>\n",
       "<table border=\"1\" class=\"dataframe\">\n",
       "  <thead>\n",
       "    <tr style=\"text-align: right;\">\n",
       "      <th></th>\n",
       "      <th>raw_text</th>\n",
       "      <th>lemmatized_raw_text</th>\n",
       "      <th>raw_text_POS_removed</th>\n",
       "      <th>length</th>\n",
       "    </tr>\n",
       "  </thead>\n",
       "  <tbody>\n",
       "    <tr>\n",
       "      <th>181970</th>\n",
       "      <td>Is there a command that I can use to reload the xserver without restarting the system?</td>\n",
       "      <td>command use reload xserver without restart system</td>\n",
       "      <td>command use reload xserver restart system</td>\n",
       "      <td>41</td>\n",
       "    </tr>\n",
       "    <tr>\n",
       "      <th>170</th>\n",
       "      <td>can someone tell me what I do with a .tar.gz.part file?</td>\n",
       "      <td>someone tell targzpart file</td>\n",
       "      <td>someone file</td>\n",
       "      <td>12</td>\n",
       "    </tr>\n",
       "    <tr>\n",
       "      <th>147729</th>\n",
       "      <td>so does anyone know if its possible to have both Ubuntu and Windows on the same comp, like Mac and Windows on MacBooks?</td>\n",
       "      <td>anyone know possible ubuntu window comp like mac window macbooks</td>\n",
       "      <td>anyone window mac window</td>\n",
       "      <td>24</td>\n",
       "    </tr>\n",
       "    <tr>\n",
       "      <th>153112</th>\n",
       "      <td>Ubuntu version 10.04.1 is the LTS one that is supported to April 2013, right?</td>\n",
       "      <td>ubuntu version lts one support april right</td>\n",
       "      <td>version support april right</td>\n",
       "      <td>27</td>\n",
       "    </tr>\n",
       "    <tr>\n",
       "      <th>40659</th>\n",
       "      <td>how do i know which driver my wirelesscard is currently using?</td>\n",
       "      <td>know driver wirelesscard currently use</td>\n",
       "      <td></td>\n",
       "      <td>0</td>\n",
       "    </tr>\n",
       "  </tbody>\n",
       "</table>\n",
       "</div>"
      ],
      "text/plain": [
       "                                                                                                                       raw_text  \\\n",
       "181970                                   Is there a command that I can use to reload the xserver without restarting the system?   \n",
       "170                                                                     can someone tell me what I do with a .tar.gz.part file?   \n",
       "147729  so does anyone know if its possible to have both Ubuntu and Windows on the same comp, like Mac and Windows on MacBooks?   \n",
       "153112                                            Ubuntu version 10.04.1 is the LTS one that is supported to April 2013, right?   \n",
       "40659                                                            how do i know which driver my wirelesscard is currently using?   \n",
       "\n",
       "                                                     lemmatized_raw_text  \\\n",
       "181970                 command use reload xserver without restart system   \n",
       "170                                          someone tell targzpart file   \n",
       "147729  anyone know possible ubuntu window comp like mac window macbooks   \n",
       "153112                        ubuntu version lts one support april right   \n",
       "40659                             know driver wirelesscard currently use   \n",
       "\n",
       "                             raw_text_POS_removed  length  \n",
       "181970  command use reload xserver restart system      41  \n",
       "170                                  someone file      12  \n",
       "147729                   anyone window mac window      24  \n",
       "153112                version support april right      27  \n",
       "40659                                                   0  "
      ]
     },
     "execution_count": 182,
     "metadata": {},
     "output_type": "execute_result"
    }
   ],
   "source": [
    "df_sample.head()"
   ]
  },
  {
   "cell_type": "markdown",
   "id": "59418dc5",
   "metadata": {
    "papermill": {
     "duration": 0.022509,
     "end_time": "2024-06-23T02:55:28.708812",
     "exception": false,
     "start_time": "2024-06-23T02:55:28.686303",
     "status": "completed"
    },
    "tags": []
   },
   "source": [
    "## EDA\n",
    "### Visualizing data according to the length of the raw text character"
   ]
  },
  {
   "cell_type": "code",
   "execution_count": 183,
   "id": "c82d6849",
   "metadata": {
    "execution": {
     "iopub.status.busy": "2024-06-23T20:29:52.292463Z",
     "iopub.status.idle": "2024-06-23T20:29:52.292845Z",
     "shell.execute_reply": "2024-06-23T20:29:52.292684Z",
     "shell.execute_reply.started": "2024-06-23T20:29:52.292668Z"
    }
   },
   "outputs": [],
   "source": [
    "import matplotlib.pyplot as plt\n",
    "from wordcloud import WordCloud\n",
    "from sklearn.feature_extraction.text import CountVectorizer\n",
    "from nltk.corpus import wordnet as wn"
   ]
  },
  {
   "cell_type": "code",
   "execution_count": 184,
   "id": "2d6a00e0",
   "metadata": {
    "execution": {
     "iopub.status.busy": "2024-06-23T20:29:52.293795Z",
     "iopub.status.idle": "2024-06-23T20:29:52.294138Z",
     "shell.execute_reply": "2024-06-23T20:29:52.293985Z",
     "shell.execute_reply.started": "2024-06-23T20:29:52.293969Z"
    },
    "papermill": {
     "duration": 0.352165,
     "end_time": "2024-06-23T02:55:29.252723",
     "exception": false,
     "start_time": "2024-06-23T02:55:28.900558",
     "status": "completed"
    },
    "tags": []
   },
   "outputs": [
    {
     "data": {
      "image/png": "[encoded data removed]",
      "text/plain": [
       "<Figure size 1800x500 with 1 Axes>"
      ]
     },
     "metadata": {},
     "output_type": "display_data"
    }
   ],
   "source": [
    "# Write your code here to visualise the data according to the 'Complaint' character length\n",
    "plt.figure(figsize=(18,5))\n",
    "plt.hist(df_sample.length, bins=50)\n",
    "plt.xlabel(\"Customer Message Length\")\n",
    "plt.show()"
   ]
  },
  {
   "cell_type": "markdown",
   "id": "8c9e2cb5",
   "metadata": {
    "papermill": {
     "duration": 0.024336,
     "end_time": "2024-06-23T02:55:29.300686",
     "exception": false,
     "start_time": "2024-06-23T02:55:29.276350",
     "status": "completed"
    },
    "tags": []
   },
   "source": [
    "### Word cloud to find the top 50 words by frequency among all"
   ]
  },
  {
   "cell_type": "code",
   "execution_count": 185,
   "id": "6863049e",
   "metadata": {
    "execution": {
     "iopub.status.busy": "2024-06-23T20:29:52.295925Z",
     "iopub.status.idle": "2024-06-23T20:29:52.296347Z",
     "shell.execute_reply": "2024-06-23T20:29:52.296131Z",
     "shell.execute_reply.started": "2024-06-23T20:29:52.296116Z"
    },
    "papermill": {
     "duration": 2.81901,
     "end_time": "2024-06-23T02:55:32.142727",
     "exception": false,
     "start_time": "2024-06-23T02:55:29.323717",
     "status": "completed"
    },
    "tags": []
   },
   "outputs": [
    {
     "data": {
      "image/png": "[encoded data removed]",
      "text/plain": [
       "<Figure size 8000x6000 with 1 Axes>"
      ]
     },
     "metadata": {},
     "output_type": "display_data"
    }
   ],
   "source": [
    "# Using a word cloud find the top 40 words by frequency among all the articles after processing the text\n",
    "wordcloud = WordCloud(\n",
    "    background_color='white',\n",
    "    stopwords=stop,\n",
    "    max_words=100,\n",
    "    max_font_size=40, \n",
    "    random_state=42\n",
    "    ).generate(str(df_sample['raw_text_POS_removed'][:]))\n",
    "\n",
    "fig = plt.figure(figsize=(80,60))\n",
    "plt.imshow(wordcloud)\n",
    "plt.axis('off')\n",
    "plt.show()"
   ]
  },
  {
   "cell_type": "markdown",
   "id": "9dda3131",
   "metadata": {
    "papermill": {
     "duration": 0.025087,
     "end_time": "2024-06-23T02:55:32.194169",
     "exception": false,
     "start_time": "2024-06-23T02:55:32.169082",
     "status": "completed"
    },
    "tags": []
   },
   "source": [
    "### Find top 30 n ngrams"
   ]
  },
  {
   "cell_type": "code",
   "execution_count": 186,
   "id": "3db101e3",
   "metadata": {
    "execution": {
     "iopub.status.busy": "2024-06-23T20:29:52.300457Z",
     "iopub.status.idle": "2024-06-23T20:29:52.300876Z",
     "shell.execute_reply": "2024-06-23T20:29:52.300712Z",
     "shell.execute_reply.started": "2024-06-23T20:29:52.300694Z"
    },
    "papermill": {
     "duration": 0.036344,
     "end_time": "2024-06-23T02:55:32.255792",
     "exception": false,
     "start_time": "2024-06-23T02:55:32.219448",
     "status": "completed"
    },
    "tags": []
   },
   "outputs": [],
   "source": [
    "# top n nngram frequency among the cleaned raw text \n",
    "def get_top_n_words(corpus, n=None, ngram_range=(1, 1)):\n",
    "    vec = CountVectorizer(ngram_range=ngram_range, stop_words='english').fit(corpus)\n",
    "    bag_of_words = vec.transform(corpus)\n",
    "    sum_words = bag_of_words.sum(axis=0) \n",
    "    words_freq = [(word, sum_words[0, idx]) for word, idx in vec.vocabulary_.items()]\n",
    "    words_freq =sorted(words_freq, key = lambda x: x[1], reverse=True)\n",
    "    return words_freq[:n]"
   ]
  },
  {
   "cell_type": "code",
   "execution_count": 187,
   "id": "78a1ac04",
   "metadata": {
    "execution": {
     "iopub.status.busy": "2024-06-23T20:29:52.302672Z",
     "iopub.status.idle": "2024-06-23T20:29:52.303032Z",
     "shell.execute_reply": "2024-06-23T20:29:52.302876Z",
     "shell.execute_reply.started": "2024-06-23T20:29:52.302861Z"
    },
    "papermill": {
     "duration": 1.101873,
     "end_time": "2024-06-23T02:55:33.384029",
     "exception": false,
     "start_time": "2024-06-23T02:55:32.282156",
     "status": "completed"
    },
    "tags": []
   },
   "outputs": [
    {
     "name": "stdout",
     "output_type": "stream",
     "text": [
      "[('use', 4191), ('file', 2802), ('work', 2751), ('help', 2159), ('im', 2076), ('way', 2042), ('install', 1935), ('ubuntu', 1766), ('problem', 1664), ('window', 1542), ('package', 1526), ('try', 1504), ('boot', 1359), ('question', 1350), ('command', 1336), ('partition', 1276), ('program', 1275), ('guy', 1259), ('cd', 1220), ('server', 1083), ('change', 1065), ('drive', 1060), ('linux', 1038), ('time', 990), ('version', 976), ('dont', 944), ('need', 931), ('driver', 929), ('computer', 922), ('idea', 876)]\n",
      "[('command line', 278), ('im use', 277), ('need help', 199), ('doesnt work', 195), ('im problem', 117), ('root password', 110), ('im try', 99), ('file directory', 91), ('im trouble', 86), ('package manager', 86), ('program use', 85), ('cunt cunt', 85), ('guy im', 83), ('work ubuntu', 82), ('boot cd', 81), ('try use', 80), ('network manager', 79), ('home directory', 79), ('card work', 74), ('version ubuntu', 68), ('nvidia driver', 68), ('video card', 68), ('wireless network', 65), ('use window', 64), ('copy file', 63), ('permission deny', 63), ('sudo aptget', 62), ('file file', 62), ('bit version', 61), ('ubuntu use', 60)]\n",
      "[('cunt cunt cunt', 84), ('use command line', 23), ('harderfuck harderfuck harderfuck', 23), ('configure error compiler', 19), ('file file directory', 14), ('ask root password', 13), ('share file file', 13), ('connect wireless network', 13), ('intel core duo', 12), ('price drp price', 12), ('dick cunt dick', 12), ('use package manager', 11), ('error load share', 11), ('error compiler create', 11), ('drp price drp', 11), ('cunt dick cunt', 11), ('wireless network card', 10), ('guy im use', 10), ('file command line', 10), ('card work ubuntu', 10), ('restrict driver manager', 10), ('default root password', 10), ('bit version bit', 10), ('configure correct problem', 10), ('change screen resolution', 10), ('sex sex sex', 10), ('question im try', 9), ('httpfreeopenirctripodcom httpfreeopenirctripodcom httpfreeopenirctripodcom', 9), ('command line command', 8), ('need help card', 8)]\n"
     ]
    }
   ],
   "source": [
    "# top 30 unigrams, bigram and trigram by frequency among all the complaints\n",
    "common_words_1 = get_top_n_words(df_sample['raw_text_POS_removed'].values.astype('U'), 30)\n",
    "common_words_2 = get_top_n_words(df_sample['raw_text_POS_removed'].values.astype('U'), 30, (2, 2))\n",
    "common_words_3 = get_top_n_words(df_sample['raw_text_POS_removed'].values.astype('U'), 30, (3, 3))\n",
    "print(common_words_1)\n",
    "print(common_words_2)\n",
    "print(common_words_3)"
   ]
  },
  {
   "cell_type": "markdown",
   "id": "844c069e",
   "metadata": {
    "papermill": {
     "duration": 0.02569,
     "end_time": "2024-06-23T02:55:33.436323",
     "exception": false,
     "start_time": "2024-06-23T02:55:33.410633",
     "status": "completed"
    },
    "tags": []
   },
   "source": [
    "## Feature Extraction"
   ]
  },
  {
   "cell_type": "code",
   "execution_count": 188,
   "id": "3e1bc764",
   "metadata": {
    "execution": {
     "iopub.status.busy": "2024-06-23T20:29:52.303900Z",
     "iopub.status.idle": "2024-06-23T20:29:52.304248Z",
     "shell.execute_reply": "2024-06-23T20:29:52.304093Z",
     "shell.execute_reply.started": "2024-06-23T20:29:52.304077Z"
    },
    "papermill": {
     "duration": 0.058735,
     "end_time": "2024-06-23T02:55:33.520684",
     "exception": false,
     "start_time": "2024-06-23T02:55:33.461949",
     "status": "completed"
    },
    "tags": []
   },
   "outputs": [],
   "source": [
    "from sklearn.feature_extraction.text import TfidfVectorizer, TfidfTransformer\n",
    "from sklearn.decomposition import NMF"
   ]
  },
  {
   "cell_type": "code",
   "execution_count": 189,
   "id": "2e6df9f0",
   "metadata": {
    "execution": {
     "iopub.status.busy": "2024-06-23T20:29:52.305828Z",
     "iopub.status.idle": "2024-06-23T20:29:52.306183Z",
     "shell.execute_reply": "2024-06-23T20:29:52.306025Z",
     "shell.execute_reply.started": "2024-06-23T20:29:52.306010Z"
    },
    "papermill": {
     "duration": 0.034739,
     "end_time": "2024-06-23T02:55:33.582089",
     "exception": false,
     "start_time": "2024-06-23T02:55:33.547350",
     "status": "completed"
    },
    "tags": []
   },
   "outputs": [],
   "source": [
    "# initialise the TfidfVectorizer\n",
    "tfidf = TfidfVectorizer(max_df=0.95, min_df=2, stop_words=\"english\")"
   ]
  },
  {
   "cell_type": "code",
   "execution_count": 190,
   "id": "1809d3bd",
   "metadata": {
    "execution": {
     "iopub.status.busy": "2024-06-23T20:29:52.307233Z",
     "iopub.status.idle": "2024-06-23T20:29:52.307594Z",
     "shell.execute_reply": "2024-06-23T20:29:52.307421Z",
     "shell.execute_reply.started": "2024-06-23T20:29:52.307407Z"
    },
    "papermill": {
     "duration": 0.135603,
     "end_time": "2024-06-23T02:55:33.744298",
     "exception": false,
     "start_time": "2024-06-23T02:55:33.608695",
     "status": "completed"
    },
    "tags": []
   },
   "outputs": [],
   "source": [
    "# frequency of terms that occur in a collection of document\n",
    "document_term_matrix = tfidf.fit_transform(df_sample.raw_text_POS_removed)"
   ]
  },
  {
   "cell_type": "code",
   "execution_count": 191,
   "id": "fb54178e",
   "metadata": {
    "execution": {
     "iopub.status.busy": "2024-06-23T20:29:52.309141Z",
     "iopub.status.idle": "2024-06-23T20:29:52.309747Z",
     "shell.execute_reply": "2024-06-23T20:29:52.309553Z",
     "shell.execute_reply.started": "2024-06-23T20:29:52.309523Z"
    },
    "papermill": {
     "duration": 0.034922,
     "end_time": "2024-06-23T02:55:33.805940",
     "exception": false,
     "start_time": "2024-06-23T02:55:33.771018",
     "status": "completed"
    },
    "tags": []
   },
   "outputs": [],
   "source": [
    "# loading nmf_model with the n_components i.e 6\n",
    "num_topics = 6\n",
    "nmf_model = NMF(n_components=num_topics, random_state=40) "
   ]
  },
  {
   "cell_type": "code",
   "execution_count": 192,
   "id": "d6a04ce2",
   "metadata": {
    "execution": {
     "iopub.status.busy": "2024-06-23T20:29:52.311369Z",
     "iopub.status.idle": "2024-06-23T20:29:52.311749Z",
     "shell.execute_reply": "2024-06-23T20:29:52.311588Z",
     "shell.execute_reply.started": "2024-06-23T20:29:52.311569Z"
    },
    "papermill": {
     "duration": 0.409648,
     "end_time": "2024-06-23T02:55:34.242593",
     "exception": false,
     "start_time": "2024-06-23T02:55:33.832945",
     "status": "completed"
    },
    "tags": []
   },
   "outputs": [
    {
     "data": {
      "text/plain": [
       "4867"
      ]
     },
     "execution_count": 192,
     "metadata": {},
     "output_type": "execute_result"
    }
   ],
   "source": [
    "nmf_model.fit(document_term_matrix)\n",
    "len(tfidf.get_feature_names_out())"
   ]
  },
  {
   "cell_type": "code",
   "execution_count": 193,
   "id": "c06e7b34",
   "metadata": {
    "execution": {
     "iopub.status.busy": "2024-06-23T20:29:52.313087Z",
     "iopub.status.idle": "2024-06-23T20:29:52.313428Z",
     "shell.execute_reply": "2024-06-23T20:29:52.313278Z",
     "shell.execute_reply.started": "2024-06-23T20:29:52.313257Z"
    },
    "papermill": {
     "duration": 0.146973,
     "end_time": "2024-06-23T02:55:34.439867",
     "exception": false,
     "start_time": "2024-06-23T02:55:34.292894",
     "status": "completed"
    },
    "tags": []
   },
   "outputs": [
    {
     "name": "stdout",
     "output_type": "stream",
     "text": [
      "\u001b[1mTHE TOP 15 WORDS FOR TOPIC #1 \u001b[0m\n",
      "['mount', 'server', 'try', 'question', 'guy', 'linux', 'drive', 'program', 'im', 'window', 'install', 'boot', 'cd', 'partition', 'use']\n",
      "\n",
      "\n",
      "\u001b[1mTHE TOP 15 WORDS FOR TOPIC #2 \u001b[0m\n",
      "['guy', 'card', 'dont', 'time', 'server', 'driver', 'network', 'anybody', 'issue', 'im', 'error', 'try', 'problem', 'need', 'help']\n",
      "\n",
      "\n",
      "\u001b[1mTHE TOP 15 WORDS FOR TOPIC #3 \u001b[0m\n",
      "['software', 'command', 'search', 'dependency', 'repository', 'way', 'deb', 'source', 'list', 'manager', 'aptget', 'download', 'version', 'install', 'package']\n",
      "\n",
      "\n",
      "\u001b[1mTHE TOP 15 WORDS FOR TOPIC #4 \u001b[0m\n",
      "['access', 'program', 'share', 'root', 'edit', 'copy', 'download', 'change', 'permission', 'line', 'way', 'folder', 'directory', 'command', 'file']\n",
      "\n",
      "\n",
      "\u001b[1mTHE TOP 15 WORDS FOR TOPIC #5 \u001b[0m\n",
      "['dont', 'computer', 'video', 'im', 'linux', 'network', 'sound', 'try', 'wireless', 'problem', 'idea', 'doesnt', 'driver', 'card', 'work']\n",
      "\n",
      "\n",
      "\u001b[1mTHE TOP 15 WORDS FOR TOPIC #6 \u001b[0m\n",
      "['server', 'pc', 'problem', 'machine', 'guy', 'desktop', 'bit', 'card', 'support', 'anybody', 'window', 'question', 'version', 'way', 'ubuntu']\n",
      "\n",
      "\n"
     ]
    }
   ],
   "source": [
    "# print the top 15 words for each of the topics\n",
    "for index, topic in enumerate(nmf_model.components_):\n",
    "    print(f'\\033[1mTHE TOP 15 WORDS FOR TOPIC #{index + 1}', '\\033[0m')  \n",
    "    print([tfidf.get_feature_names_out()[i] for i in topic.argsort()[-15:]])\n",
    "    print('\\n')"
   ]
  },
  {
   "cell_type": "code",
   "execution_count": 194,
   "id": "209f215f",
   "metadata": {
    "execution": {
     "iopub.status.busy": "2024-06-23T20:29:52.314636Z",
     "iopub.status.idle": "2024-06-23T20:29:52.314981Z",
     "shell.execute_reply": "2024-06-23T20:29:52.314828Z",
     "shell.execute_reply.started": "2024-06-23T20:29:52.314813Z"
    },
    "papermill": {
     "duration": 0.044001,
     "end_time": "2024-06-23T02:55:34.511078",
     "exception": false,
     "start_time": "2024-06-23T02:55:34.467077",
     "status": "completed"
    },
    "tags": []
   },
   "outputs": [
    {
     "data": {
      "text/plain": [
       "array([0, 3, 0, ..., 4, 1, 0])"
      ]
     },
     "execution_count": 194,
     "metadata": {},
     "output_type": "execute_result"
    }
   ],
   "source": [
    "# best topic for each complaint in terms of integer value 0,1,2,3,4 & 5\n",
    "topic_results = nmf_model.transform(document_term_matrix)\n",
    "topic_results[0].round(2)\n",
    "topic_results[0].argmax()\n",
    "topic_results.argmax(axis=1)"
   ]
  },
  {
   "cell_type": "code",
   "execution_count": 195,
   "id": "efb6abe9",
   "metadata": {
    "execution": {
     "iopub.status.busy": "2024-06-23T20:29:52.316439Z",
     "iopub.status.idle": "2024-06-23T20:29:52.316827Z",
     "shell.execute_reply": "2024-06-23T20:29:52.316668Z",
     "shell.execute_reply.started": "2024-06-23T20:29:52.316653Z"
    },
    "papermill": {
     "duration": 0.035813,
     "end_time": "2024-06-23T02:55:34.573107",
     "exception": false,
     "start_time": "2024-06-23T02:55:34.537294",
     "status": "completed"
    },
    "tags": []
   },
   "outputs": [],
   "source": [
    "df_sample['Topic'] = topic_results.argmax(axis = 1)"
   ]
  },
  {
   "cell_type": "code",
   "execution_count": 196,
   "id": "b4079201",
   "metadata": {
    "execution": {
     "iopub.status.busy": "2024-06-23T20:29:52.318275Z",
     "iopub.status.idle": "2024-06-23T20:29:52.318787Z",
     "shell.execute_reply": "2024-06-23T20:29:52.318538Z",
     "shell.execute_reply.started": "2024-06-23T20:29:52.318517Z"
    },
    "papermill": {
     "duration": 0.037401,
     "end_time": "2024-06-23T02:55:34.636001",
     "exception": false,
     "start_time": "2024-06-23T02:55:34.598600",
     "status": "completed"
    },
    "tags": []
   },
   "outputs": [],
   "source": [
    "df_topic = df_sample.groupby('Topic').head(3)"
   ]
  },
  {
   "cell_type": "code",
   "execution_count": 197,
   "id": "cb821f06",
   "metadata": {
    "execution": {
     "iopub.status.busy": "2024-06-23T20:29:52.320509Z",
     "iopub.status.idle": "2024-06-23T20:29:52.320928Z",
     "shell.execute_reply": "2024-06-23T20:29:52.320743Z",
     "shell.execute_reply.started": "2024-06-23T20:29:52.320727Z"
    },
    "papermill": {
     "duration": 0.043595,
     "end_time": "2024-06-23T02:55:34.705078",
     "exception": false,
     "start_time": "2024-06-23T02:55:34.661483",
     "status": "completed"
    },
    "tags": []
   },
   "outputs": [
    {
     "data": {
      "text/html": [
       "<div>\n",
       "<style scoped>\n",
       "    .dataframe tbody tr th:only-of-type {\n",
       "        vertical-align: middle;\n",
       "    }\n",
       "\n",
       "    .dataframe tbody tr th {\n",
       "        vertical-align: top;\n",
       "    }\n",
       "\n",
       "    .dataframe thead th {\n",
       "        text-align: right;\n",
       "    }\n",
       "</style>\n",
       "<table border=\"1\" class=\"dataframe\">\n",
       "  <thead>\n",
       "    <tr style=\"text-align: right;\">\n",
       "      <th></th>\n",
       "      <th>raw_text</th>\n",
       "      <th>lemmatized_raw_text</th>\n",
       "      <th>raw_text_POS_removed</th>\n",
       "      <th>length</th>\n",
       "      <th>Topic</th>\n",
       "    </tr>\n",
       "  </thead>\n",
       "  <tbody>\n",
       "    <tr>\n",
       "      <th>181970</th>\n",
       "      <td>Is there a command that I can use to reload the xserver without restarting the system?</td>\n",
       "      <td>command use reload xserver without restart system</td>\n",
       "      <td>command use reload xserver restart system</td>\n",
       "      <td>41</td>\n",
       "      <td>0</td>\n",
       "    </tr>\n",
       "    <tr>\n",
       "      <th>147729</th>\n",
       "      <td>so does anyone know if its possible to have both Ubuntu and Windows on the same comp, like Mac and Windows on MacBooks?</td>\n",
       "      <td>anyone know possible ubuntu window comp like mac window macbooks</td>\n",
       "      <td>anyone window mac window</td>\n",
       "      <td>24</td>\n",
       "      <td>0</td>\n",
       "    </tr>\n",
       "    <tr>\n",
       "      <th>40659</th>\n",
       "      <td>how do i know which driver my wirelesscard is currently using?</td>\n",
       "      <td>know driver wirelesscard currently use</td>\n",
       "      <td></td>\n",
       "      <td>0</td>\n",
       "      <td>0</td>\n",
       "    </tr>\n",
       "    <tr>\n",
       "      <th>69755</th>\n",
       "      <td>can someone get me the link to the kubuntu ISO torrent?</td>\n",
       "      <td>someone get link kubuntu iso torrent</td>\n",
       "      <td>someone get torrent</td>\n",
       "      <td>19</td>\n",
       "      <td>1</td>\n",
       "    </tr>\n",
       "    <tr>\n",
       "      <th>79581</th>\n",
       "      <td>can anyone help me reinstall grub correctly from the 11.04 x64 live cd?</td>\n",
       "      <td>anyone help reinstall grub correctly x live cd</td>\n",
       "      <td>anyone help grub cd</td>\n",
       "      <td>19</td>\n",
       "      <td>1</td>\n",
       "    </tr>\n",
       "    <tr>\n",
       "      <th>78238</th>\n",
       "      <td>Hi im writing a script that includes the mount volume, but when I execute it I get the obvious error that it needs to be run by root. I dont want to have to use sudo to use the script.  can some 1 help me solve this?</td>\n",
       "      <td>im write script include mount volume execute get obvious error need run root dont want use sudo use script help solve</td>\n",
       "      <td>script mount volume error need dont use sudo use script help</td>\n",
       "      <td>60</td>\n",
       "      <td>1</td>\n",
       "    </tr>\n",
       "    <tr>\n",
       "      <th>51107</th>\n",
       "      <td>hi can anyone tell me how to install jre2 on my ubuntu 5.04 ? it cannot find the package sun-j2re1.5</td>\n",
       "      <td>anyone tell install jre ubuntu find package sunjre</td>\n",
       "      <td>anyone jre package sunjre</td>\n",
       "      <td>25</td>\n",
       "      <td>2</td>\n",
       "    </tr>\n",
       "    <tr>\n",
       "      <th>146241</th>\n",
       "      <td>Can someone tell me what's the process for reporting bugs with patches? I read somewhere that you can't triage your own bug, but when my bug with a patch is sitting there as unknown for 2.5 weeks with any comment from anyone it's a little absurd. :-/</td>\n",
       "      <td>someone tell whats process report bug patch read somewhere cant triage bug bug patch sit unknown week comment anyone little absurd</td>\n",
       "      <td>someone tell report bug patch read triage bug bug patch sit week comment anyone</td>\n",
       "      <td>79</td>\n",
       "      <td>2</td>\n",
       "    </tr>\n",
       "    <tr>\n",
       "      <th>115454</th>\n",
       "      <td>jre is only the runtime, JDK contains libraries to actually develop stuff.</td>\n",
       "      <td>jre runtime jdk contain library actually develop stuff</td>\n",
       "      <td>jre runtime jdk stuff</td>\n",
       "      <td>21</td>\n",
       "      <td>2</td>\n",
       "    </tr>\n",
       "    <tr>\n",
       "      <th>107205</th>\n",
       "      <td>Does anyone know how to change the repositories that the 'update-manager' uses for updating?</td>\n",
       "      <td>anyone know change repository updatemanager us update</td>\n",
       "      <td>anyone change repository</td>\n",
       "      <td>24</td>\n",
       "      <td>3</td>\n",
       "    </tr>\n",
       "    <tr>\n",
       "      <th>170</th>\n",
       "      <td>can someone tell me what I do with a .tar.gz.part file?</td>\n",
       "      <td>someone tell targzpart file</td>\n",
       "      <td>someone file</td>\n",
       "      <td>12</td>\n",
       "      <td>3</td>\n",
       "    </tr>\n",
       "    <tr>\n",
       "      <th>133510</th>\n",
       "      <td>How can I go back to the prompt when reading a manual?</td>\n",
       "      <td>go back prompt reading manual</td>\n",
       "      <td>reading</td>\n",
       "      <td>7</td>\n",
       "      <td>3</td>\n",
       "    </tr>\n",
       "    <tr>\n",
       "      <th>120609</th>\n",
       "      <td>I have high speed cable and ubuntu 9.10 and there is some massive lag on yahoo chess.. Is there anything I can do to speed up the connection</td>\n",
       "      <td>high speed cable ubuntu massive lag yahoo chess anything speed connection</td>\n",
       "      <td>speed cable lag yahoo chess anything speed connection</td>\n",
       "      <td>53</td>\n",
       "      <td>4</td>\n",
       "    </tr>\n",
       "    <tr>\n",
       "      <th>137873</th>\n",
       "      <td>hey you guy recomend some mp3 players that work with this distro</td>\n",
       "      <td>guy recomend mp player work distro</td>\n",
       "      <td>guy recomend mp player work distro</td>\n",
       "      <td>34</td>\n",
       "      <td>4</td>\n",
       "    </tr>\n",
       "    <tr>\n",
       "      <th>39358</th>\n",
       "      <td>um...whats up with ubuntu lookin like it's about to become a paid OS?</td>\n",
       "      <td>umwhats ubuntu lookin like become pay o</td>\n",
       "      <td>pay o</td>\n",
       "      <td>5</td>\n",
       "      <td>4</td>\n",
       "    </tr>\n",
       "    <tr>\n",
       "      <th>153112</th>\n",
       "      <td>Ubuntu version 10.04.1 is the LTS one that is supported to April 2013, right?</td>\n",
       "      <td>ubuntu version lts one support april right</td>\n",
       "      <td>version support april right</td>\n",
       "      <td>27</td>\n",
       "      <td>5</td>\n",
       "    </tr>\n",
       "    <tr>\n",
       "      <th>105660</th>\n",
       "      <td>help me... ! aku mau instal ubuntu versi baru gmn caranya ???</td>\n",
       "      <td>help want install new version ubuntu</td>\n",
       "      <td>help version ubuntu</td>\n",
       "      <td>19</td>\n",
       "      <td>5</td>\n",
       "    </tr>\n",
       "    <tr>\n",
       "      <th>124072</th>\n",
       "      <td>is there anyway to do a chkdsk /f to a ntfs from ubuntu</td>\n",
       "      <td>anyway chkdsk f ntfs ubuntu</td>\n",
       "      <td>f ntfs ubuntu</td>\n",
       "      <td>13</td>\n",
       "      <td>5</td>\n",
       "    </tr>\n",
       "  </tbody>\n",
       "</table>\n",
       "</div>"
      ],
      "text/plain": [
       "                                                                                                                                                                                                                                                          raw_text  \\\n",
       "181970                                                                                                                                                                      Is there a command that I can use to reload the xserver without restarting the system?   \n",
       "147729                                                                                                                                     so does anyone know if its possible to have both Ubuntu and Windows on the same comp, like Mac and Windows on MacBooks?   \n",
       "40659                                                                                                                                                                                               how do i know which driver my wirelesscard is currently using?   \n",
       "69755                                                                                                                                                                                                      can someone get me the link to the kubuntu ISO torrent?   \n",
       "79581                                                                                                                                                                                      can anyone help me reinstall grub correctly from the 11.04 x64 live cd?   \n",
       "78238                                     Hi im writing a script that includes the mount volume, but when I execute it I get the obvious error that it needs to be run by root. I dont want to have to use sudo to use the script.  can some 1 help me solve this?   \n",
       "51107                                                                                                                                                         hi can anyone tell me how to install jre2 on my ubuntu 5.04 ? it cannot find the package sun-j2re1.5   \n",
       "146241  Can someone tell me what's the process for reporting bugs with patches? I read somewhere that you can't triage your own bug, but when my bug with a patch is sitting there as unknown for 2.5 weeks with any comment from anyone it's a little absurd. :-/   \n",
       "115454                                                                                                                                                                                  jre is only the runtime, JDK contains libraries to actually develop stuff.   \n",
       "107205                                                                                                                                                                Does anyone know how to change the repositories that the 'update-manager' uses for updating?   \n",
       "170                                                                                                                                                                                                        can someone tell me what I do with a .tar.gz.part file?   \n",
       "133510                                                                                                                                                                                                      How can I go back to the prompt when reading a manual?   \n",
       "120609                                                                                                                I have high speed cable and ubuntu 9.10 and there is some massive lag on yahoo chess.. Is there anything I can do to speed up the connection   \n",
       "137873                                                                                                                                                                                            hey you guy recomend some mp3 players that work with this distro   \n",
       "39358                                                                                                                                                                                        um...whats up with ubuntu lookin like it's about to become a paid OS?   \n",
       "153112                                                                                                                                                                               Ubuntu version 10.04.1 is the LTS one that is supported to April 2013, right?   \n",
       "105660                                                                                                                                                                                               help me... ! aku mau instal ubuntu versi baru gmn caranya ???   \n",
       "124072                                                                                                                                                                                                     is there anyway to do a chkdsk /f to a ntfs from ubuntu   \n",
       "\n",
       "                                                                                                                       lemmatized_raw_text  \\\n",
       "181970                                                                                   command use reload xserver without restart system   \n",
       "147729                                                                    anyone know possible ubuntu window comp like mac window macbooks   \n",
       "40659                                                                                               know driver wirelesscard currently use   \n",
       "69755                                                                                                 someone get link kubuntu iso torrent   \n",
       "79581                                                                                       anyone help reinstall grub correctly x live cd   \n",
       "78238                im write script include mount volume execute get obvious error need run root dont want use sudo use script help solve   \n",
       "51107                                                                                   anyone tell install jre ubuntu find package sunjre   \n",
       "146241  someone tell whats process report bug patch read somewhere cant triage bug bug patch sit unknown week comment anyone little absurd   \n",
       "115454                                                                              jre runtime jdk contain library actually develop stuff   \n",
       "107205                                                                               anyone know change repository updatemanager us update   \n",
       "170                                                                                                            someone tell targzpart file   \n",
       "133510                                                                                                       go back prompt reading manual   \n",
       "120609                                                           high speed cable ubuntu massive lag yahoo chess anything speed connection   \n",
       "137873                                                                                                  guy recomend mp player work distro   \n",
       "39358                                                                                              umwhats ubuntu lookin like become pay o   \n",
       "153112                                                                                          ubuntu version lts one support april right   \n",
       "105660                                                                                                help want install new version ubuntu   \n",
       "124072                                                                                                         anyway chkdsk f ntfs ubuntu   \n",
       "\n",
       "                                                                   raw_text_POS_removed  \\\n",
       "181970                                        command use reload xserver restart system   \n",
       "147729                                                         anyone window mac window   \n",
       "40659                                                                                     \n",
       "69755                                                               someone get torrent   \n",
       "79581                                                               anyone help grub cd   \n",
       "78238                      script mount volume error need dont use sudo use script help   \n",
       "51107                                                         anyone jre package sunjre   \n",
       "146241  someone tell report bug patch read triage bug bug patch sit week comment anyone   \n",
       "115454                                                            jre runtime jdk stuff   \n",
       "107205                                                         anyone change repository   \n",
       "170                                                                        someone file   \n",
       "133510                                                                          reading   \n",
       "120609                            speed cable lag yahoo chess anything speed connection   \n",
       "137873                                               guy recomend mp player work distro   \n",
       "39358                                                                             pay o   \n",
       "153112                                                      version support april right   \n",
       "105660                                                              help version ubuntu   \n",
       "124072                                                                    f ntfs ubuntu   \n",
       "\n",
       "        length  Topic  \n",
       "181970      41      0  \n",
       "147729      24      0  \n",
       "40659        0      0  \n",
       "69755       19      1  \n",
       "79581       19      1  \n",
       "78238       60      1  \n",
       "51107       25      2  \n",
       "146241      79      2  \n",
       "115454      21      2  \n",
       "107205      24      3  \n",
       "170         12      3  \n",
       "133510       7      3  \n",
       "120609      53      4  \n",
       "137873      34      4  \n",
       "39358        5      4  \n",
       "153112      27      5  \n",
       "105660      19      5  \n",
       "124072      13      5  "
      ]
     },
     "execution_count": 197,
     "metadata": {},
     "output_type": "execute_result"
    }
   ],
   "source": [
    "df_topic.sort_values('Topic')"
   ]
  },
  {
   "cell_type": "code",
   "execution_count": 198,
   "id": "06e171ee",
   "metadata": {
    "execution": {
     "iopub.status.busy": "2024-06-23T20:29:52.322147Z",
     "iopub.status.idle": "2024-06-23T20:29:52.322500Z",
     "shell.execute_reply": "2024-06-23T20:29:52.322344Z",
     "shell.execute_reply.started": "2024-06-23T20:29:52.322328Z"
    },
    "papermill": {
     "duration": 0.036585,
     "end_time": "2024-06-23T02:55:34.768210",
     "exception": false,
     "start_time": "2024-06-23T02:55:34.731625",
     "status": "completed"
    },
    "tags": []
   },
   "outputs": [],
   "source": [
    "# topic dictionary\n",
    "# Topic_names = { \n",
    "#     0: 'Hardware and System Setup',\n",
    "#     1: 'Network and Connectivity',\n",
    "#     2: 'File and Folder Management',\n",
    "#     3: 'System Operations',\n",
    "#     4: 'Software Installation',\n",
    "#     5: 'Disk and Storage Management',\n",
    "# }\n",
    "\n",
    "Topic_names = {\n",
    "    0: \"Hardware and Software Setup\",\n",
    "    1: \"Network and Connectivity Issues\",\n",
    "    2: \"File and Directory Management\",\n",
    "    3: \"Software Installation and Dependencies\",\n",
    "    4: \"System Setup and Partitioning\",\n",
    "    5: \"General Inquiries and Support\"\n",
    "}\n",
    "\n",
    "df_sample['Topic'] = df_sample['Topic'].map(Topic_names)"
   ]
  },
  {
   "cell_type": "code",
   "execution_count": 199,
   "id": "0a357dcc",
   "metadata": {
    "execution": {
     "iopub.status.busy": "2024-06-23T20:29:52.323717Z",
     "iopub.status.idle": "2024-06-23T20:29:52.324044Z",
     "shell.execute_reply": "2024-06-23T20:29:52.323897Z",
     "shell.execute_reply.started": "2024-06-23T20:29:52.323884Z"
    }
   },
   "outputs": [],
   "source": [
    "# df_sample.drop('Topic', axis=1)"
   ]
  },
  {
   "cell_type": "code",
   "execution_count": 200,
   "id": "d15a8e25",
   "metadata": {
    "execution": {
     "iopub.status.busy": "2024-06-23T20:29:52.325285Z",
     "iopub.status.idle": "2024-06-23T20:29:52.325699Z",
     "shell.execute_reply": "2024-06-23T20:29:52.325498Z",
     "shell.execute_reply.started": "2024-06-23T20:29:52.325482Z"
    },
    "papermill": {
     "duration": 0.042512,
     "end_time": "2024-06-23T02:55:34.838526",
     "exception": false,
     "start_time": "2024-06-23T02:55:34.796014",
     "status": "completed"
    },
    "tags": []
   },
   "outputs": [
    {
     "data": {
      "text/html": [
       "<div>\n",
       "<style scoped>\n",
       "    .dataframe tbody tr th:only-of-type {\n",
       "        vertical-align: middle;\n",
       "    }\n",
       "\n",
       "    .dataframe tbody tr th {\n",
       "        vertical-align: top;\n",
       "    }\n",
       "\n",
       "    .dataframe thead th {\n",
       "        text-align: right;\n",
       "    }\n",
       "</style>\n",
       "<table border=\"1\" class=\"dataframe\">\n",
       "  <thead>\n",
       "    <tr style=\"text-align: right;\">\n",
       "      <th></th>\n",
       "      <th>raw_text</th>\n",
       "      <th>Topic</th>\n",
       "    </tr>\n",
       "  </thead>\n",
       "  <tbody>\n",
       "    <tr>\n",
       "      <th>181970</th>\n",
       "      <td>Is there a command that I can use to reload the xserver without restarting the system?</td>\n",
       "      <td>Hardware and Software Setup</td>\n",
       "    </tr>\n",
       "    <tr>\n",
       "      <th>170</th>\n",
       "      <td>can someone tell me what I do with a .tar.gz.part file?</td>\n",
       "      <td>Software Installation and Dependencies</td>\n",
       "    </tr>\n",
       "    <tr>\n",
       "      <th>147729</th>\n",
       "      <td>so does anyone know if its possible to have both Ubuntu and Windows on the same comp, like Mac and Windows on MacBooks?</td>\n",
       "      <td>Hardware and Software Setup</td>\n",
       "    </tr>\n",
       "    <tr>\n",
       "      <th>153112</th>\n",
       "      <td>Ubuntu version 10.04.1 is the LTS one that is supported to April 2013, right?</td>\n",
       "      <td>General Inquiries and Support</td>\n",
       "    </tr>\n",
       "    <tr>\n",
       "      <th>40659</th>\n",
       "      <td>how do i know which driver my wirelesscard is currently using?</td>\n",
       "      <td>Hardware and Software Setup</td>\n",
       "    </tr>\n",
       "  </tbody>\n",
       "</table>\n",
       "</div>"
      ],
      "text/plain": [
       "                                                                                                                       raw_text  \\\n",
       "181970                                   Is there a command that I can use to reload the xserver without restarting the system?   \n",
       "170                                                                     can someone tell me what I do with a .tar.gz.part file?   \n",
       "147729  so does anyone know if its possible to have both Ubuntu and Windows on the same comp, like Mac and Windows on MacBooks?   \n",
       "153112                                            Ubuntu version 10.04.1 is the LTS one that is supported to April 2013, right?   \n",
       "40659                                                            how do i know which driver my wirelesscard is currently using?   \n",
       "\n",
       "                                         Topic  \n",
       "181970             Hardware and Software Setup  \n",
       "170     Software Installation and Dependencies  \n",
       "147729             Hardware and Software Setup  \n",
       "153112           General Inquiries and Support  \n",
       "40659              Hardware and Software Setup  "
      ]
     },
     "execution_count": 200,
     "metadata": {},
     "output_type": "execute_result"
    }
   ],
   "source": [
    "df_sample[['raw_text','Topic']].head()\n"
   ]
  },
  {
   "cell_type": "markdown",
   "id": "dcf58b32",
   "metadata": {
    "papermill": {
     "duration": 0.027261,
     "end_time": "2024-06-23T02:55:34.893676",
     "exception": false,
     "start_time": "2024-06-23T02:55:34.866415",
     "status": "completed"
    },
    "tags": []
   },
   "source": [
    "### Modeling"
   ]
  },
  {
   "cell_type": "code",
   "execution_count": 201,
   "id": "164142dc",
   "metadata": {
    "execution": {
     "iopub.status.busy": "2024-06-23T20:29:52.326622Z",
     "iopub.status.idle": "2024-06-23T20:29:52.326975Z",
     "shell.execute_reply": "2024-06-23T20:29:52.326803Z",
     "shell.execute_reply.started": "2024-06-23T20:29:52.326789Z"
    },
    "papermill": {
     "duration": 0.037436,
     "end_time": "2024-06-23T02:55:34.958598",
     "exception": false,
     "start_time": "2024-06-23T02:55:34.921162",
     "status": "completed"
    },
    "tags": []
   },
   "outputs": [],
   "source": [
    "training_data = df_sample[['raw_text','Topic']]"
   ]
  },
  {
   "cell_type": "code",
   "execution_count": 202,
   "id": "525f1c3a",
   "metadata": {
    "execution": {
     "iopub.status.busy": "2024-06-23T20:29:52.328927Z",
     "iopub.status.idle": "2024-06-23T20:29:52.329277Z",
     "shell.execute_reply": "2024-06-23T20:29:52.329122Z",
     "shell.execute_reply.started": "2024-06-23T20:29:52.329107Z"
    },
    "papermill": {
     "duration": 0.280732,
     "end_time": "2024-06-23T02:55:35.267689",
     "exception": false,
     "start_time": "2024-06-23T02:55:34.986957",
     "status": "completed"
    },
    "tags": []
   },
   "outputs": [],
   "source": [
    "# transform to vector representation\n",
    "count_vect = CountVectorizer()\n",
    "X_train_counts = count_vect.fit_transform(training_data.raw_text)\n",
    "\n",
    "# transform the word vector to tf-idf\n",
    "tfidf_transformer = TfidfTransformer()\n",
    "X_train_tfidf = tfidf_transformer.fit_transform(X_train_counts)"
   ]
  },
  {
   "cell_type": "code",
   "execution_count": 203,
   "id": "ef3b95d5",
   "metadata": {
    "execution": {
     "iopub.status.busy": "2024-06-23T20:29:52.330205Z",
     "iopub.status.idle": "2024-06-23T20:29:52.330588Z",
     "shell.execute_reply": "2024-06-23T20:29:52.330397Z",
     "shell.execute_reply.started": "2024-06-23T20:29:52.330381Z"
    },
    "papermill": {
     "duration": 0.044385,
     "end_time": "2024-06-23T02:55:35.338811",
     "exception": false,
     "start_time": "2024-06-23T02:55:35.294426",
     "status": "completed"
    },
    "tags": []
   },
   "outputs": [
    {
     "name": "stdout",
     "output_type": "stream",
     "text": [
      "Shape of X_train:\u001b[1m (22500, 23385) \u001b[0m\n",
      "Shape of y_train:\u001b[1m (22500,) \u001b[0m\n",
      "Shape of X_test:\u001b[1m (7500, 23385) \u001b[0m\n",
      "Shape of y_test:\u001b[1m (7500,) \u001b[0m\n"
     ]
    }
   ],
   "source": [
    "from sklearn.model_selection import train_test_split\n",
    "\n",
    "# Performing Train-Test split\n",
    "X_train, X_test, y_train, y_test = train_test_split(X_train_tfidf, training_data.Topic, test_size=0.25, random_state=42)\n",
    "\n",
    "print(f\"Shape of X_train:\\033[1m {X_train.shape}\", '\\033[0m')\n",
    "print(f\"Shape of y_train:\\033[1m {y_train.shape}\", '\\033[0m')\n",
    "print(f\"Shape of X_test:\\033[1m {X_test.shape}\", '\\033[0m')\n",
    "print(f\"Shape of y_test:\\033[1m {y_test.shape}\", '\\033[0m')"
   ]
  },
  {
   "cell_type": "code",
   "execution_count": 204,
   "id": "44651065",
   "metadata": {
    "execution": {
     "iopub.status.busy": "2024-06-23T20:29:52.331823Z",
     "iopub.status.idle": "2024-06-23T20:29:52.332147Z",
     "shell.execute_reply": "2024-06-23T20:29:52.332002Z",
     "shell.execute_reply.started": "2024-06-23T20:29:52.331988Z"
    },
    "papermill": {
     "duration": 0.03502,
     "end_time": "2024-06-23T02:55:35.400683",
     "exception": false,
     "start_time": "2024-06-23T02:55:35.365663",
     "status": "completed"
    },
    "tags": []
   },
   "outputs": [],
   "source": [
    "TOPICS = [\n",
    "    \"Hardware and Software Setup\",\n",
    "    \"Network and Connectivity Issues\",\n",
    "    \"File and Directory Management\",\n",
    "    \"Software Installation and Dependencies\",\n",
    "    \"System Setup and Partitioning\",\n",
    "    \"General Inquiries and Support\"\n",
    "]"
   ]
  },
  {
   "cell_type": "markdown",
   "id": "2116086b",
   "metadata": {
    "papermill": {
     "duration": 0.025865,
     "end_time": "2024-06-23T02:55:35.452944",
     "exception": false,
     "start_time": "2024-06-23T02:55:35.427079",
     "status": "completed"
    },
    "tags": []
   },
   "source": [
    "#### Logistic Regression"
   ]
  },
  {
   "cell_type": "code",
   "execution_count": 205,
   "id": "ad6b0753",
   "metadata": {
    "execution": {
     "iopub.status.busy": "2024-06-23T20:29:52.333148Z",
     "iopub.status.idle": "2024-06-23T20:29:52.333492Z",
     "shell.execute_reply": "2024-06-23T20:29:52.333337Z",
     "shell.execute_reply.started": "2024-06-23T20:29:52.333322Z"
    },
    "papermill": {
     "duration": 0.300164,
     "end_time": "2024-06-23T02:55:35.779188",
     "exception": false,
     "start_time": "2024-06-23T02:55:35.479024",
     "status": "completed"
    },
    "tags": []
   },
   "outputs": [],
   "source": [
    "import seaborn as sns"
   ]
  },
  {
   "cell_type": "code",
   "execution_count": 206,
   "id": "8bf39038",
   "metadata": {
    "execution": {
     "iopub.status.busy": "2024-06-23T20:29:52.334877Z",
     "iopub.status.idle": "2024-06-23T20:29:52.335284Z",
     "shell.execute_reply": "2024-06-23T20:29:52.335089Z",
     "shell.execute_reply.started": "2024-06-23T20:29:52.335072Z"
    },
    "papermill": {
     "duration": 0.036485,
     "end_time": "2024-06-23T02:55:35.843721",
     "exception": false,
     "start_time": "2024-06-23T02:55:35.807236",
     "status": "completed"
    },
    "tags": []
   },
   "outputs": [],
   "source": [
    "from sklearn.linear_model import LogisticRegression\n",
    "from sklearn.metrics import f1_score, classification_report, confusion_matrix"
   ]
  },
  {
   "cell_type": "code",
   "execution_count": 207,
   "id": "1839e62f",
   "metadata": {
    "execution": {
     "iopub.status.busy": "2024-06-23T20:29:52.336530Z",
     "iopub.status.idle": "2024-06-23T20:29:52.336933Z",
     "shell.execute_reply": "2024-06-23T20:29:52.336773Z",
     "shell.execute_reply.started": "2024-06-23T20:29:52.336756Z"
    },
    "papermill": {
     "duration": 0.424733,
     "end_time": "2024-06-23T02:55:36.296558",
     "exception": false,
     "start_time": "2024-06-23T02:55:35.871825",
     "status": "completed"
    },
    "tags": []
   },
   "outputs": [],
   "source": [
    "# Logistic Regression model\n",
    "model_name = 'LOGISTIC REGRESSION'\n",
    "clf_lr = LogisticRegression(solver='liblinear')\n",
    "clf_lr.fit(X_train, y_train)\n",
    "y_pred_lr = clf_lr.predict(X_test)"
   ]
  },
  {
   "cell_type": "code",
   "execution_count": 208,
   "id": "05fa58ce",
   "metadata": {
    "execution": {
     "iopub.status.busy": "2024-06-23T20:29:52.338757Z",
     "iopub.status.idle": "2024-06-23T20:29:52.339118Z",
     "shell.execute_reply": "2024-06-23T20:29:52.338959Z",
     "shell.execute_reply.started": "2024-06-23T20:29:52.338944Z"
    },
    "papermill": {
     "duration": 0.084203,
     "end_time": "2024-06-23T02:55:36.427003",
     "exception": false,
     "start_time": "2024-06-23T02:55:36.342800",
     "status": "completed"
    },
    "tags": []
   },
   "outputs": [
    {
     "data": {
      "text/plain": [
       "0.7142663025076845"
      ]
     },
     "execution_count": 208,
     "metadata": {},
     "output_type": "execute_result"
    }
   ],
   "source": [
    "# F1 Score using weighted average method\n",
    "f1_lr = f1_score(y_test, y_pred_lr, average=\"weighted\")\n",
    "f1_lr"
   ]
  },
  {
   "cell_type": "code",
   "execution_count": 209,
   "id": "c0ac792c",
   "metadata": {
    "execution": {
     "iopub.status.busy": "2024-06-23T20:29:52.340303Z",
     "iopub.status.idle": "2024-06-23T20:29:52.340693Z",
     "shell.execute_reply": "2024-06-23T20:29:52.340500Z",
     "shell.execute_reply.started": "2024-06-23T20:29:52.340485Z"
    },
    "papermill": {
     "duration": 1.955692,
     "end_time": "2024-06-23T02:55:38.410837",
     "exception": false,
     "start_time": "2024-06-23T02:55:36.455145",
     "status": "completed"
    },
    "tags": []
   },
   "outputs": [],
   "source": [
    "# Logistic Regression on tuned hyperparameters\n",
    "clf_lr_tuned = LogisticRegression(C=1, penalty='l1',solver='saga')\n",
    "clf_lr_tuned.fit(X_train, y_train)\n",
    "y_pred_lr_tuned = clf_lr_tuned.predict(X_test)"
   ]
  },
  {
   "cell_type": "code",
   "execution_count": 210,
   "id": "0397cf85",
   "metadata": {
    "execution": {
     "iopub.status.busy": "2024-06-23T20:29:52.342475Z",
     "iopub.status.idle": "2024-06-23T20:29:52.342874Z",
     "shell.execute_reply": "2024-06-23T20:29:52.342712Z",
     "shell.execute_reply.started": "2024-06-23T20:29:52.342696Z"
    },
    "papermill": {
     "duration": 0.055981,
     "end_time": "2024-06-23T02:55:38.494477",
     "exception": false,
     "start_time": "2024-06-23T02:55:38.438496",
     "status": "completed"
    },
    "tags": []
   },
   "outputs": [
    {
     "data": {
      "text/plain": [
       "0.7467986914706191"
      ]
     },
     "execution_count": 210,
     "metadata": {},
     "output_type": "execute_result"
    }
   ],
   "source": [
    "# F1 Score of tuned model using weighted average method\n",
    "f1_lr_tuned = f1_score(y_test, y_pred_lr_tuned, average=\"weighted\")\n",
    "f1_lr_tuned"
   ]
  },
  {
   "cell_type": "code",
   "execution_count": 211,
   "id": "b9a32fc1",
   "metadata": {
    "execution": {
     "iopub.status.busy": "2024-06-23T20:29:52.345261Z",
     "iopub.status.idle": "2024-06-23T20:29:52.345683Z",
     "shell.execute_reply": "2024-06-23T20:29:52.345480Z",
     "shell.execute_reply.started": "2024-06-23T20:29:52.345460Z"
    },
    "papermill": {
     "duration": 0.036854,
     "end_time": "2024-06-23T02:55:38.558199",
     "exception": false,
     "start_time": "2024-06-23T02:55:38.521345",
     "status": "completed"
    },
    "tags": []
   },
   "outputs": [],
   "source": [
    "# Create a function to evaluate models\n",
    "def eval_model(y_test, y_pred, model_name):\n",
    "    # print classification report of classifier\n",
    "    print(f\"\\033[1mCLASSIFICATION REPORT for {model_name}\\n\", '\\033[0m')\n",
    "    print(classification_report(y_test, y_pred, target_names=TOPICS))\n",
    "    \n",
    "    # plot confusion matrix of the classifier\n",
    "    plt.figure(figsize=(10,6))\n",
    "    plt.title(f\"CONFUSION MATRIX for {model_name}\\n\")\n",
    "    matrix = confusion_matrix(y_test, y_pred)\n",
    "    sns.heatmap(matrix, annot=True, cbar=None, cmap=\"Blues\", fmt='d', xticklabels=TOPICS, yticklabels=TOPICS)\n",
    "    plt.show()\n",
    "    \n",
    "    return"
   ]
  },
  {
   "cell_type": "code",
   "execution_count": 212,
   "id": "c2c42d3a",
   "metadata": {
    "execution": {
     "iopub.status.busy": "2024-06-23T20:29:52.347368Z",
     "iopub.status.idle": "2024-06-23T20:29:52.347876Z",
     "shell.execute_reply": "2024-06-23T20:29:52.347670Z",
     "shell.execute_reply.started": "2024-06-23T20:29:52.347648Z"
    },
    "papermill": {
     "duration": 0.440434,
     "end_time": "2024-06-23T02:55:39.025179",
     "exception": false,
     "start_time": "2024-06-23T02:55:38.584745",
     "status": "completed"
    },
    "tags": []
   },
   "outputs": [
    {
     "name": "stdout",
     "output_type": "stream",
     "text": [
      "\u001b[1mCLASSIFICATION REPORT for LOGISTIC REGRESSION\n",
      " \u001b[0m\n",
      "                                        precision    recall  f1-score   support\n",
      "\n",
      "           Hardware and Software Setup       0.81      0.69      0.75       734\n",
      "       Network and Connectivity Issues       0.65      0.51      0.57       793\n",
      "         File and Directory Management       0.71      0.87      0.78      3071\n",
      "Software Installation and Dependencies       0.78      0.67      0.72       728\n",
      "         System Setup and Partitioning       0.84      0.74      0.79      1041\n",
      "         General Inquiries and Support       0.83      0.69      0.75      1133\n",
      "\n",
      "                              accuracy                           0.75      7500\n",
      "                             macro avg       0.77      0.69      0.73      7500\n",
      "                          weighted avg       0.76      0.75      0.75      7500\n",
      "\n"
     ]
    },
    {
     "data": {
      "image/png": "[encoded data removed]",
      "text/plain": [
       "<Figure size 1000x600 with 1 Axes>"
      ]
     },
     "metadata": {},
     "output_type": "display_data"
    }
   ],
   "source": [
    "# Evaluate the tuned Logistic Regression classifier\n",
    "eval_model(y_test, y_pred_lr_tuned, model_name)"
   ]
  },
  {
   "cell_type": "code",
   "execution_count": 213,
   "id": "ea7440ed",
   "metadata": {
    "execution": {
     "iopub.status.busy": "2024-06-23T20:29:52.349356Z",
     "iopub.status.idle": "2024-06-23T20:29:52.349751Z",
     "shell.execute_reply": "2024-06-23T20:29:52.349585Z",
     "shell.execute_reply.started": "2024-06-23T20:29:52.349564Z"
    },
    "papermill": {
     "duration": 0.044576,
     "end_time": "2024-06-23T02:55:39.098418",
     "exception": false,
     "start_time": "2024-06-23T02:55:39.053842",
     "status": "completed"
    },
    "tags": []
   },
   "outputs": [
    {
     "data": {
      "text/html": [
       "<div>\n",
       "<style scoped>\n",
       "    .dataframe tbody tr th:only-of-type {\n",
       "        vertical-align: middle;\n",
       "    }\n",
       "\n",
       "    .dataframe tbody tr th {\n",
       "        vertical-align: top;\n",
       "    }\n",
       "\n",
       "    .dataframe thead th {\n",
       "        text-align: right;\n",
       "    }\n",
       "</style>\n",
       "<table border=\"1\" class=\"dataframe\">\n",
       "  <thead>\n",
       "    <tr style=\"text-align: right;\">\n",
       "      <th></th>\n",
       "      <th>Model</th>\n",
       "      <th>F1 Score (untuned)</th>\n",
       "      <th>F1 Score (tuned)</th>\n",
       "    </tr>\n",
       "  </thead>\n",
       "  <tbody>\n",
       "    <tr>\n",
       "      <th>0</th>\n",
       "      <td>Logistic Regression</td>\n",
       "      <td>0.71</td>\n",
       "      <td>0.75</td>\n",
       "    </tr>\n",
       "  </tbody>\n",
       "</table>\n",
       "</div>"
      ],
      "text/plain": [
       "                 Model  F1 Score (untuned)  F1 Score (tuned)\n",
       "0  Logistic Regression                0.71              0.75"
      ]
     },
     "execution_count": 213,
     "metadata": {},
     "output_type": "execute_result"
    }
   ],
   "source": [
    "summary = pd.DataFrame([{'Model': 'Logistic Regression','F1 Score (untuned)': round(f1_lr, 2), 'F1 Score (tuned)': round(f1_lr_tuned, 2)}])\n",
    "summary"
   ]
  },
  {
   "cell_type": "markdown",
   "id": "986ad712",
   "metadata": {},
   "source": [
    "### Future improvements\n",
    "* Data Cleaning\n",
    "    * Remove or handle statements containing profanity.\n",
    "    * Normalize multilingual data to English, or drop non-English data.\n",
    "    * Handle incorrect spellings.\n",
    "    * Split combined words (e.g., \"heythere\" to \"hey there\").\n",
    "    * Handle noisy data (Repetition of same words, etc) \n",
    "    \n",
    "* Modeling\n",
    "    * Experiment with additional modeling techniques to identify the best-performing approach."
   ]
  },
  {
   "cell_type": "code",
   "execution_count": null,
   "id": "e9dd0cbe",
   "metadata": {},
   "outputs": [],
   "source": []
  }
 ],
 "metadata": {
  "kaggle": {
   "accelerator": "none",
   "dataSources": [
    {
     "datasetId": 5249361,
     "sourceId": 8742930,
     "sourceType": "datasetVersion"
    }
   ],
   "dockerImageVersionId": 30732,
   "isGpuEnabled": false,
   "isInternetEnabled": true,
   "language": "python",
   "sourceType": "notebook"
  },
  "kernelspec": {
   "display_name": "Python 3 (ipykernel)",
   "language": "python",
   "name": "python3"
  },
  "language_info": {
   "codemirror_mode": {
    "name": "ipython",
    "version": 3
   },
   "file_extension": ".py",
   "mimetype": "text/x-python",
   "name": "python",
   "nbconvert_exporter": "python",
   "pygments_lexer": "ipython3",
   "version": "3.10.9"
  },
  "papermill": {
   "default_parameters": {},
   "duration": 179.523259,
   "end_time": "2024-06-23T02:55:40.529128",
   "environment_variables": {},
   "exception": null,
   "input_path": "__notebook__.ipynb",
   "output_path": "__notebook__.ipynb",
   "parameters": {},
   "start_time": "2024-06-23T02:52:41.005869",
   "version": "2.5.0"
  }
 },
 "nbformat": 4,
 "nbformat_minor": 5
}
